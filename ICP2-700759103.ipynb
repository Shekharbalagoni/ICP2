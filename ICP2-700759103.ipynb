{
  "nbformat": 4,
  "nbformat_minor": 0,
  "metadata": {
    "colab": {
      "provenance": []
    },
    "kernelspec": {
      "name": "python3",
      "display_name": "Python 3"
    },
    "language_info": {
      "name": "python"
    }
  },
  "cells": [
    {
      "cell_type": "markdown",
      "source": [],
      "metadata": {
        "id": "BSS93-vA044h"
      }
    },
    {
      "cell_type": "markdown",
      "source": [
        "Write a program that takes two strings from the user: first_name, last_name. Pass these variables to\n",
        "fullname function that should return the (full name).\n",
        "o For example:\n",
        "▪ First_name = “your first name”, last_name = “your last name”\n",
        "▪ Full_name = “your full name”\n",
        "o Write function named “string_alternative” that returns every other char in the full_name string.\n",
        "Str = “Good evening”\n",
        "Output: Go vnn"
      ],
      "metadata": {
        "id": "2NObBMnF1BlM"
      }
    },
    {
      "cell_type": "code",
      "source": [
        "first_name = input(\"Enter your first name: \")\n",
        "last_name = input(\"Enter your last name: \")\n",
        "\n",
        "def fullname(first_name, last_name):\n",
        "    return f\"{first_name} {last_name}\"\n",
        "\n",
        "def string_alternative(full_name):\n",
        "    return full_name[::2]\n",
        "\n",
        "def main():\n",
        "    full_name = fullname(first_name, last_name)\n",
        "    print(f\"Full name: {full_name}\")\n",
        "\n",
        "    alt_string = string_alternative(full_name)\n",
        "    print(f\"Alternative string: {alt_string}\")\n",
        "\n",
        "if __name__ == \"__main__\":\n",
        "    main()"
      ],
      "metadata": {
        "colab": {
          "base_uri": "https://localhost:8080/"
        },
        "id": "1VjXeaGc1MJx",
        "outputId": "d3124344-f2eb-44f0-99ad-713814a23399"
      },
      "execution_count": 2,
      "outputs": [
        {
          "output_type": "stream",
          "name": "stdout",
          "text": [
            "Enter your first name: Good\n",
            "Enter your last name: evening\n",
            "Full name: Good evening\n",
            "Alternative string: Go vnn\n"
          ]
        }
      ]
    },
    {
      "cell_type": "markdown",
      "source": [
        "Write a python program to find the wordcount in a file (input.txt) for each line and then print the output.\n",
        "o Finally store the output in output.txt file.\n",
        "Example:\n",
        "Input: a file includes two lines:\n",
        "Python Course\n",
        "Deep Learning Course\n",
        "Output:\n",
        "Python Course\n",
        "Deep Learning Course\n",
        "Word_Count:\n",
        "Python: 1\n",
        "Course: 2\n",
        "Deep: 1\n",
        "Learning: 1\n"
      ],
      "metadata": {
        "id": "SvYBDAV61bjI"
      }
    },
    {
      "cell_type": "code",
      "source": [
        "from google.colab import files\n",
        "\n",
        "Input_file = open(\"/Input.txt\", \"r\")\n",
        "output_file = open(\"output.txt\", \"w\")\n",
        "\n",
        "content = {}\n",
        "\n",
        "for line in Input_file:\n",
        "    output_file.write(line)\n",
        "    new_l = line.split()\n",
        "    for x in new_l:\n",
        "        if(content.get(x)==None):\n",
        "            content[x]=1\n",
        "        else:\n",
        "            content[x] = content[x] + 1\n",
        "\n",
        "output_file.write(\"\\nWord_Count:\\n\")\n",
        "for key, value in content.items():\n",
        "    output_file.write(f'{key}: {value}\\n')\n",
        "\n",
        "Input_file.close()\n",
        "output_file.close()\n",
        "\n",
        "with open('output.txt', 'r') as output_file:\n",
        "    print(output_file.read())"
      ],
      "metadata": {
        "colab": {
          "base_uri": "https://localhost:8080/",
          "height": 181
        },
        "id": "k_Y9C15E3S_R",
        "outputId": "31f5f1b8-f919-4120-98e5-efb933d34315"
      },
      "execution_count": 31,
      "outputs": [
        {
          "output_type": "stream",
          "name": "stdout",
          "text": [
            "Python Course\n",
            "\n",
            "Deep Learning Course\n",
            "Word_Count:\n",
            "Python: 1\n",
            "Course: 2\n",
            "Deep: 1\n",
            "Learning: 1\n",
            "\n"
          ]
        },
        {
          "output_type": "display_data",
          "data": {
            "text/plain": [
              "<IPython.core.display.Javascript object>"
            ],
            "application/javascript": [
              "\n",
              "    async function download(id, filename, size) {\n",
              "      if (!google.colab.kernel.accessAllowed) {\n",
              "        return;\n",
              "      }\n",
              "      const div = document.createElement('div');\n",
              "      const label = document.createElement('label');\n",
              "      label.textContent = `Downloading \"${filename}\": `;\n",
              "      div.appendChild(label);\n",
              "      const progress = document.createElement('progress');\n",
              "      progress.max = size;\n",
              "      div.appendChild(progress);\n",
              "      document.body.appendChild(div);\n",
              "\n",
              "      const buffers = [];\n",
              "      let downloaded = 0;\n",
              "\n",
              "      const channel = await google.colab.kernel.comms.open(id);\n",
              "      // Send a message to notify the kernel that we're ready.\n",
              "      channel.send({})\n",
              "\n",
              "      for await (const message of channel.messages) {\n",
              "        // Send a message to notify the kernel that we're ready.\n",
              "        channel.send({})\n",
              "        if (message.buffers) {\n",
              "          for (const buffer of message.buffers) {\n",
              "            buffers.push(buffer);\n",
              "            downloaded += buffer.byteLength;\n",
              "            progress.value = downloaded;\n",
              "          }\n",
              "        }\n",
              "      }\n",
              "      const blob = new Blob(buffers, {type: 'application/binary'});\n",
              "      const a = document.createElement('a');\n",
              "      a.href = window.URL.createObjectURL(blob);\n",
              "      a.download = filename;\n",
              "      div.appendChild(a);\n",
              "      a.click();\n",
              "      div.remove();\n",
              "    }\n",
              "  "
            ]
          },
          "metadata": {}
        },
        {
          "output_type": "display_data",
          "data": {
            "text/plain": [
              "<IPython.core.display.Javascript object>"
            ],
            "application/javascript": [
              "download(\"download_96ed6d41-9cc9-44e3-aa00-a4b8948ff07f\", \"output.txt\", 88)"
            ]
          },
          "metadata": {}
        }
      ]
    },
    {
      "cell_type": "markdown",
      "source": [
        "Write a program, which reads heights (inches.) of customers into a list and convert these\n",
        "heights to centimeters in a separate list using:\n",
        "1) Nested Interactive loop.\n",
        "2) List comprehensions"
      ],
      "metadata": {
        "id": "tM09Ed_O1ijl"
      }
    },
    {
      "cell_type": "code",
      "source": [
        "def inchToCent(value):\n",
        "    return value * 2.54\n",
        "\n",
        "data = input(\"Enter customer heights separated by commas: \")\n",
        "heights = data.split(',')\n",
        "\n",
        "new_list = []\n",
        "\n",
        "for x in heights:\n",
        "        value = int(x.strip())\n",
        "        new_list.append(inchToCent(value))\n",
        "\n",
        "print(\"Converted heights in centimeters:\", new_list)"
      ],
      "metadata": {
        "colab": {
          "base_uri": "https://localhost:8080/"
        },
        "id": "poHo2YmI5a_d",
        "outputId": "8f047a42-5d09-4390-ae90-cc7db25b5383"
      },
      "execution_count": 29,
      "outputs": [
        {
          "output_type": "stream",
          "name": "stdout",
          "text": [
            "Enter customer heights separated by commas: 150,155,145,148\n",
            "Converted heights in centimeters: [381.0, 393.7, 368.3, 375.92]\n"
          ]
        }
      ]
    }
  ]
}